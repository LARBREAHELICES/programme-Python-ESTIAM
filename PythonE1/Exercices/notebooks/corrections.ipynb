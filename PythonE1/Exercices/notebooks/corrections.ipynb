{
 "cells": [
  {
   "cell_type": "code",
   "execution_count": 24,
   "id": "fa1081a0-9d4b-4a2b-bdff-f9fc0fb1ffc6",
   "metadata": {},
   "outputs": [],
   "source": [
    "def increment(count):\n",
    "    count += 1 \n",
    "    return count "
   ]
  },
  {
   "cell_type": "code",
   "execution_count": 25,
   "id": "7727b23c-f736-4ce9-884f-2e05ce31039c",
   "metadata": {},
   "outputs": [
    {
     "name": "stdout",
     "output_type": "stream",
     "text": [
      "1\n",
      "2\n",
      "3\n",
      "4\n",
      "5\n",
      "6\n",
      "7\n",
      "8\n",
      "9\n",
      "10\n"
     ]
    }
   ],
   "source": [
    "count = 0\n",
    "\n",
    "for _ in range(10):\n",
    "    count = increment(count)\n",
    "    print(count)"
   ]
  },
  {
   "cell_type": "code",
   "execution_count": 49,
   "id": "fb771e85-13d1-447f-a854-af6ea4c75d51",
   "metadata": {},
   "outputs": [],
   "source": [
    "def make_counter(count = [0]):\n",
    "    count[0] += 1\n",
    "    \n",
    "    return count[0]"
   ]
  },
  {
   "cell_type": "code",
   "execution_count": 51,
   "id": "30a13262-ff5f-4ad1-a27c-03139f5e82fc",
   "metadata": {},
   "outputs": [
    {
     "data": {
      "text/plain": [
       "5"
      ]
     },
     "execution_count": 51,
     "metadata": {},
     "output_type": "execute_result"
    }
   ],
   "source": [
    "make_counter()\n",
    "make_counter()\n",
    "make_counter()\n",
    "make_counter()\n"
   ]
  },
  {
   "cell_type": "code",
   "execution_count": 52,
   "id": "6607e4dc-09de-4101-8e7e-a7cfafe1c141",
   "metadata": {},
   "outputs": [
    {
     "name": "stdout",
     "output_type": "stream",
     "text": [
      "Avant (int) : 10 → id = 4319603576\n",
      "Après  (int) : 11 → id = 4319603608\n",
      "----------------------------------------\n",
      "Avant (list) : [1, 2, 3] → id = 4486871552\n",
      "Après  (list) : [1, 2, 3, 4] → id = 4486871552\n"
     ]
    }
   ],
   "source": [
    "# Exemple 1 : Entier (objet immuable)\n",
    "x = 10\n",
    "print(\"Avant (int) :\", x, \"→ id =\", id(x))\n",
    "\n",
    "x += 1  # Crée un nouvel objet\n",
    "print(\"Après  (int) :\", x, \"→ id =\", id(x))\n",
    "\n",
    "print(\"-\" * 40)\n",
    "\n",
    "# Exemple 2 : Liste (objet mutable)\n",
    "lst = [1, 2, 3]\n",
    "print(\"Avant (list) :\", lst, \"→ id =\", id(lst))\n",
    "\n",
    "lst += [4]  # Modifie l'objet existant\n",
    "print(\"Après  (list) :\", lst, \"→ id =\", id(lst))"
   ]
  },
  {
   "cell_type": "markdown",
   "id": "f50c46fc-4f7f-4a54-9830-6becdccded33",
   "metadata": {},
   "source": [
    "1. Créer une liste contenant les carrés des nombres pairs de 0 à 20.\n",
    "2. Transformer une liste de chaînes en leur longueur (`[\"chat\", \"chien\"] → [4, 5]`).\n",
    "3. Créer une liste des voyelles présentes dans une phrase sans doublons.\n",
    "4. À partir d'un dictionnaire `{nom: note}`, générer une liste des élèves admis (note >= 10)."
   ]
  },
  {
   "cell_type": "code",
   "execution_count": 62,
   "id": "fa508b26-6670-46bf-8e0a-cd98c0aaa687",
   "metadata": {},
   "outputs": [
    {
     "data": {
      "text/plain": [
       "'1 4 9 16 25 36 49 64 81 100 121 144 169 196 225 256 289 324 361 400'"
      ]
     },
     "execution_count": 62,
     "metadata": {},
     "output_type": "execute_result"
    }
   ],
   "source": [
    "squares = [ n**2 for n in range(1, 21 ) ]\n",
    "\"\".join( f\"{n} \" for n in squares).strip()"
   ]
  },
  {
   "cell_type": "code",
   "execution_count": 63,
   "id": "d6edbeff-1962-4295-b7ea-81b024416c88",
   "metadata": {},
   "outputs": [
    {
     "data": {
      "text/plain": [
       "[4, 5]"
      ]
     },
     "execution_count": 63,
     "metadata": {},
     "output_type": "execute_result"
    }
   ],
   "source": [
    "[ len(ch) for ch in [\"chat\", \"chien\"]]"
   ]
  },
  {
   "cell_type": "code",
   "execution_count": 65,
   "id": "af9f7619-b2d4-459a-abb6-5e6c6ddfdd0a",
   "metadata": {},
   "outputs": [
    {
     "data": {
      "text/plain": [
       "'o o u o u e o e'"
      ]
     },
     "execution_count": 65,
     "metadata": {},
     "output_type": "execute_result"
    }
   ],
   "source": [
    "\" \".join( ch for ch in \"bonjour tout le monde\" if ch in 'aeiouy')"
   ]
  },
  {
   "cell_type": "code",
   "execution_count": 66,
   "id": "98a551f3-9c48-4ef1-b52a-cdb2eefb411c",
   "metadata": {},
   "outputs": [
    {
     "data": {
      "text/plain": [
       "['Alice', 'Charlie', 'Diana']"
      ]
     },
     "execution_count": 66,
     "metadata": {},
     "output_type": "execute_result"
    }
   ],
   "source": [
    "students = {\n",
    "    \"Alice\": 15,\n",
    "    \"Bob\": 9,\n",
    "    \"Charlie\": 12,\n",
    "    \"Diana\": 18,\n",
    "    \"Ethan\": 7\n",
    "}\n",
    "\n",
    "[ name for name in students if students[name] >= 10 ]"
   ]
  },
  {
   "cell_type": "markdown",
   "id": "ea19b2ed-f615-46c8-a9b3-c7d8b7e58ead",
   "metadata": {},
   "source": [
    "1. À partir d'une liste de 10 éléments, afficher :\n",
    "\n",
    "   * les 3 premiers éléments,\n",
    "   * les 3 derniers,\n",
    "   * un élément sur deux.\n",
    "2. Inverser une chaîne de caractères en une ligne grâce au slicing.\n",
    "3. Extraire le mot `\"Python\"` de la chaîne `\"Je code en Python tous les jours\"`.\n",
    "4. Supprimer les éléments d'indice pair d'une liste donnée.\n",
    "5. Créer une copie d'une liste, modifier la copie, et vérifier que l'originale n'est pas affectée."
   ]
  },
  {
   "cell_type": "code",
   "execution_count": 67,
   "id": "42e96528-38af-4bea-9baa-5a0ba6840456",
   "metadata": {},
   "outputs": [
    {
     "data": {
      "text/plain": [
       "[('Alice', 15), ('Bob', 9), ('Charlie', 12)]"
      ]
     },
     "execution_count": 67,
     "metadata": {},
     "output_type": "execute_result"
    }
   ],
   "source": [
    "students = [\n",
    "    (\"Alice\", 15),\n",
    "    (\"Bob\", 9),\n",
    "    (\"Charlie\", 12),\n",
    "    (\"Diana\", 18),\n",
    "    (\"Ethan\", 7),\n",
    "    (\"Fiona\", 14),\n",
    "    (\"Gabriel\", 11),\n",
    "    (\"Hugo\", 8),\n",
    "    (\"Inès\", 16),\n",
    "    (\"Jules\", 10)\n",
    "]\n",
    "\n",
    "students[:3]"
   ]
  },
  {
   "cell_type": "code",
   "execution_count": 69,
   "id": "0734a9e0-5d70-43b9-8142-d10646b7ea5b",
   "metadata": {},
   "outputs": [
    {
     "data": {
      "text/plain": [
       "[('Hugo', 8), ('Inès', 16), ('Jules', 10)]"
      ]
     },
     "execution_count": 69,
     "metadata": {},
     "output_type": "execute_result"
    }
   ],
   "source": [
    "students[-3:]"
   ]
  },
  {
   "cell_type": "code",
   "execution_count": 70,
   "id": "c331b7ef-a16b-46f8-b4d0-1adc784400c6",
   "metadata": {},
   "outputs": [
    {
     "data": {
      "text/plain": [
       "[('Alice', 15), ('Charlie', 12), ('Ethan', 7), ('Gabriel', 11), ('Inès', 16)]"
      ]
     },
     "execution_count": 70,
     "metadata": {},
     "output_type": "execute_result"
    }
   ],
   "source": [
    "students[::2]"
   ]
  },
  {
   "cell_type": "code",
   "execution_count": 71,
   "id": "ec72a1bf-956b-4569-beaf-77cd6c6b525a",
   "metadata": {},
   "outputs": [
    {
     "data": {
      "text/plain": [
       "[('Jules', 10),\n",
       " ('Inès', 16),\n",
       " ('Hugo', 8),\n",
       " ('Gabriel', 11),\n",
       " ('Fiona', 14),\n",
       " ('Ethan', 7),\n",
       " ('Diana', 18),\n",
       " ('Charlie', 12),\n",
       " ('Bob', 9),\n",
       " ('Alice', 15)]"
      ]
     },
     "execution_count": 71,
     "metadata": {},
     "output_type": "execute_result"
    }
   ],
   "source": [
    "students[::-1]"
   ]
  },
  {
   "cell_type": "code",
   "execution_count": 72,
   "id": "90a564ee-f5d1-4640-a4bc-c4606490edcd",
   "metadata": {},
   "outputs": [],
   "source": [
    "del students[::2]"
   ]
  },
  {
   "cell_type": "code",
   "execution_count": 73,
   "id": "80efddae-1edf-4a56-b60e-db31f7917679",
   "metadata": {},
   "outputs": [
    {
     "data": {
      "text/plain": [
       "[('Bob', 9), ('Diana', 18), ('Fiona', 14), ('Hugo', 8), ('Jules', 10)]"
      ]
     },
     "execution_count": 73,
     "metadata": {},
     "output_type": "execute_result"
    }
   ],
   "source": [
    "students"
   ]
  },
  {
   "cell_type": "code",
   "execution_count": 74,
   "id": "6bce35ea-6264-4d0d-9b0a-153a503ab9ee",
   "metadata": {},
   "outputs": [],
   "source": [
    "st = students[:]\n",
    "\n",
    "st[0] = ('Michel', 10 )"
   ]
  },
  {
   "cell_type": "code",
   "execution_count": 75,
   "id": "a012bfe3-294c-4378-8e0e-c9cf0259a9ef",
   "metadata": {},
   "outputs": [
    {
     "data": {
      "text/plain": [
       "[('Michel', 10), ('Diana', 18), ('Fiona', 14), ('Hugo', 8), ('Jules', 10)]"
      ]
     },
     "execution_count": 75,
     "metadata": {},
     "output_type": "execute_result"
    }
   ],
   "source": [
    "st"
   ]
  },
  {
   "cell_type": "code",
   "execution_count": 76,
   "id": "4d354a8b-416d-4f8e-a047-a56a0a2490d2",
   "metadata": {},
   "outputs": [
    {
     "data": {
      "text/plain": [
       "[('Bob', 9), ('Diana', 18), ('Fiona', 14), ('Hugo', 8), ('Jules', 10)]"
      ]
     },
     "execution_count": 76,
     "metadata": {},
     "output_type": "execute_result"
    }
   ],
   "source": [
    "students"
   ]
  },
  {
   "cell_type": "code",
   "execution_count": 78,
   "id": "a0f4d3bb-0e1f-45a7-bc16-cbf512d850ab",
   "metadata": {},
   "outputs": [
    {
     "data": {
      "text/plain": [
       "False"
      ]
     },
     "execution_count": 78,
     "metadata": {},
     "output_type": "execute_result"
    }
   ],
   "source": [
    "\"Python\" in \"Je code en Python tous les jours\""
   ]
  },
  {
   "cell_type": "code",
   "execution_count": 82,
   "id": "1d18994b-b0d0-4469-b81f-c98be657f838",
   "metadata": {},
   "outputs": [
    {
     "data": {
      "text/plain": [
       "['Python']"
      ]
     },
     "execution_count": 82,
     "metadata": {},
     "output_type": "execute_result"
    }
   ],
   "source": [
    "len_seq = len(\"Python\")\n",
    "\n",
    "[ word for word in \"Je code en Python tous les jours\".split(\" \") if word == \"Python\" ]"
   ]
  },
  {
   "cell_type": "code",
   "execution_count": 89,
   "id": "2c54825d-d9ab-4386-8e53-180c29091313",
   "metadata": {},
   "outputs": [
    {
     "name": "stdout",
     "output_type": "stream",
     "text": [
      "Mot Python trouvé à la position 11\n"
     ]
    }
   ],
   "source": [
    "sentence = \"Je code en Python tous les jours\"\n",
    "target = \"Python\"\n",
    "\n",
    "n = len(target)\n",
    "\n",
    "for i in range(len(sentence) - n + 1):\n",
    "    if sentence[i:i+n] == target:\n",
    "        print(f\"Mot {target} trouvé à la position {i}\")\n",
    "        break\n",
    "else:\n",
    "    print(\"Mot non trouvé\")"
   ]
  },
  {
   "cell_type": "code",
   "execution_count": null,
   "id": "7c75dc20-3b48-4467-aaba-02fd6d97f70b",
   "metadata": {},
   "outputs": [],
   "source": []
  }
 ],
 "metadata": {
  "kernelspec": {
   "display_name": "Python 3 (ipykernel)",
   "language": "python",
   "name": "python3"
  },
  "language_info": {
   "codemirror_mode": {
    "name": "ipython",
    "version": 3
   },
   "file_extension": ".py",
   "mimetype": "text/x-python",
   "name": "python",
   "nbconvert_exporter": "python",
   "pygments_lexer": "ipython3",
   "version": "3.13.3"
  }
 },
 "nbformat": 4,
 "nbformat_minor": 5
}
